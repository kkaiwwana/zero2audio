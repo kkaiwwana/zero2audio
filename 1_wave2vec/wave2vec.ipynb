{
 "cells": [
  {
   "cell_type": "code",
   "execution_count": 1,
   "id": "a8843776",
   "metadata": {},
   "outputs": [],
   "source": [
    "import torch\n",
    "import torch.nn as nn"
   ]
  },
  {
   "cell_type": "markdown",
   "id": "b6489ebb",
   "metadata": {},
   "source": [
    "### Prepare Input. "
   ]
  },
  {
   "cell_type": "code",
   "execution_count": 2,
   "id": "04c079f9",
   "metadata": {},
   "outputs": [
    {
     "data": {
      "text/plain": [
       "torch.Size([2, 1, 160000])"
      ]
     },
     "execution_count": 2,
     "metadata": {},
     "output_type": "execute_result"
    }
   ],
   "source": [
    "audio = torch.rand(1, 160000)  # 10s audio over 16kHz SR.\n",
    "x = audio[None].repeat(2, 1, 1)  # make it a batch.\n",
    "x.shape"
   ]
  },
  {
   "cell_type": "markdown",
   "id": "f819f3e8",
   "metadata": {},
   "source": [
    "### Feature Extractor (Downsample with Conv)."
   ]
  },
  {
   "cell_type": "code",
   "execution_count": 3,
   "id": "4c1c38be",
   "metadata": {},
   "outputs": [
    {
     "data": {
      "text/plain": [
       "torch.Size([2, 512, 500])"
      ]
     },
     "execution_count": 3,
     "metadata": {},
     "output_type": "execute_result"
    }
   ],
   "source": [
    "def conv_block(down_rate, c_in=512, c_out=512, kernal_size=3, **kwargs):\n",
    "    assert kernal_size % 2, 'For simplicity, make sure kernal_size is odd.'\n",
    "    return nn.Sequential(\n",
    "        nn.Conv1d(\n",
    "            in_channels=c_in,\n",
    "            out_channels=c_out,\n",
    "            stride=down_rate, \n",
    "            kernel_size=kernal_size, \n",
    "            padding=kernal_size // 2,\n",
    "            **kwargs,\n",
    "        ),\n",
    "        nn.GELU()\n",
    "    )\n",
    "\n",
    "\n",
    "feature_extractor = torch.nn.Sequential(\n",
    "    conv_block(5, 1, 512, kernal_size=9),\n",
    "    *[conv_block(down_rate) for down_rate in [2,] * 6]\n",
    ")\n",
    "\n",
    "x = feature_extractor(x)\n",
    "x.shape"
   ]
  },
  {
   "cell_type": "markdown",
   "id": "73b56e6d",
   "metadata": {},
   "source": [
    "### Vector-Quantization\n",
    "Why VQ? Enfore continuous vector to be some limited representations (Codebook) and therefore prevent overfitting.\n",
    "\n",
    "What is a Codebook? A trainable group of vectors."
   ]
  },
  {
   "cell_type": "code",
   "execution_count": 4,
   "id": "35f682ef",
   "metadata": {},
   "outputs": [],
   "source": [
    "from einops import rearrange, einsum\n",
    "\n",
    "\n",
    "class VectorQuantizer(nn.Module):\n",
    "    def __init__(self, n_group=2, group_len=320, n_dim=128, feat_in=512):\n",
    "        super().__init__()\n",
    "        self.n_group = n_group\n",
    "        self.scorer = nn.Linear(feat_in, n_group * group_len)\n",
    "        self.codebook = nn.Parameter(torch.randn(n_group, group_len, n_dim))\n",
    "    \n",
    "    def forward(self, x):\n",
    "        x = self.scorer(x)  # 'b l (n_group group_len))\n",
    "        score = rearrange(x, 'b l (g n) -> b l g n', g=self.n_group)\n",
    "        score = score.softmax(dim=-1)[..., None]  # (b l g n 1) \n",
    "        \n",
    "        codebook = self.codebook[None, None]  # (1 1 g n d)\n",
    "        \n",
    "        q = rearrange((score * codebook).sum(dim=-2), 'b l g d -> b l (g d)')\n",
    "        return q"
   ]
  },
  {
   "cell_type": "code",
   "execution_count": 5,
   "id": "790336b1",
   "metadata": {},
   "outputs": [
    {
     "data": {
      "text/plain": [
       "torch.Size([2, 500, 256])"
      ]
     },
     "execution_count": 5,
     "metadata": {},
     "output_type": "execute_result"
    }
   ],
   "source": [
    "_out = VectorQuantizer()(rearrange(x, 'b d l -> b l d'))\n",
    "_out.shape"
   ]
  },
  {
   "cell_type": "markdown",
   "id": "e01ecb77",
   "metadata": {},
   "source": [
    "##### Why Gumbel?\n",
    "Probability Sampling. Here is a example."
   ]
  },
  {
   "cell_type": "code",
   "execution_count": 6,
   "id": "c95379ed",
   "metadata": {},
   "outputs": [
    {
     "name": "stdout",
     "output_type": "stream",
     "text": [
      "0 0 0 0 0 0 0 0 0 0 "
     ]
    }
   ],
   "source": [
    "p = torch.tensor([0.6, 0.3, 0.1])\n",
    "for _ in range(10):\n",
    "    print(p.argmax().item(), end=' ')"
   ]
  },
  {
   "cell_type": "code",
   "execution_count": 7,
   "id": "3d62fed3",
   "metadata": {},
   "outputs": [
    {
     "name": "stdout",
     "output_type": "stream",
     "text": [
      "0 2 0 0 0 0 1 1 1 1 "
     ]
    }
   ],
   "source": [
    "def gumbel(p):\n",
    "    gumbel_noise = - torch.log(- torch.log(torch.rand_like(p)))\n",
    "    return p + gumbel_noise\n",
    "\n",
    "for _ in range(10):\n",
    "    print(gumbel(p).argmax().item(), end=' ')"
   ]
  },
  {
   "cell_type": "markdown",
   "id": "10aaabd4",
   "metadata": {},
   "source": [
    "#### Gumbel Vector-Quantier"
   ]
  },
  {
   "cell_type": "code",
   "execution_count": 8,
   "id": "92244587",
   "metadata": {},
   "outputs": [],
   "source": [
    "class GumbelVectorQuantizer(nn.Module):\n",
    "    def __init__(self, n_group=2, group_len=320, n_dim=128, feat_in=512):\n",
    "        super().__init__()\n",
    "        self.n_group = n_group\n",
    "        self.scorer = nn.Linear(feat_in, n_group * group_len)\n",
    "        self.codebook = nn.Parameter(torch.randn(n_group, group_len, n_dim))\n",
    "    \n",
    "    def gumbel_softmax(self, p, dim, tau=0.1, eps=1e-8):\n",
    "        gumbel_noise = - torch.log(- torch.log(torch.rand_like(p) + eps) + eps)\n",
    "        return ((p + gumbel_noise) / tau).softmax(dim=dim) \n",
    "    \n",
    "    def forward(self, x):\n",
    "        x = self.scorer(x)  # 'b l (n_group group_len))\n",
    "        score = rearrange(x, 'b l (g n) -> b l g n', g=self.n_group)\n",
    "        score = self.gumbel_softmax(score, dim=-1)[..., None]  # (b l g n 1) \n",
    "        \n",
    "        codebook = self.codebook[None, None]  # (1 1 g n d)\n",
    "        \n",
    "        q = rearrange((score * codebook).sum(dim=-2), 'b l g d -> b l (g d)')\n",
    "        return q"
   ]
  },
  {
   "cell_type": "code",
   "execution_count": 9,
   "id": "9fc97b7b",
   "metadata": {},
   "outputs": [
    {
     "data": {
      "text/plain": [
       "torch.Size([2, 500, 256])"
      ]
     },
     "execution_count": 9,
     "metadata": {},
     "output_type": "execute_result"
    }
   ],
   "source": [
    "gumbel_vq = GumbelVectorQuantizer()\n",
    "q = gumbel_vq(rearrange(x, 'b d l -> b l d'))\n",
    "q.shape"
   ]
  },
  {
   "cell_type": "markdown",
   "id": "a1f4b3dd",
   "metadata": {},
   "source": [
    "### Mask Feature.\n",
    "Mask Feature at time dimension."
   ]
  },
  {
   "cell_type": "code",
   "execution_count": 10,
   "id": "17f65ca3",
   "metadata": {},
   "outputs": [],
   "source": [
    "class FeatureMasker(nn.Module):\n",
    "    def __init__(self, feature_dim=512, n_masks=8, mask_len=10):\n",
    "        super().__init__()\n",
    "        # replacer is a leanable vector, not zero vector.\n",
    "        self.vec_replacer = nn.Parameter(torch.randn(feature_dim))\n",
    "        self.n_masks = n_masks\n",
    "        self.mask_len = mask_len\n",
    "    \n",
    "    def random_mask(self, x, fill_value=None):\n",
    "        b = x.shape[0]\n",
    "        start_points = torch.randint(0, x.shape[1] - self.mask_len, (b, self.n_masks,))\n",
    "        end_points = start_points + self.mask_len\n",
    "        ref = torch.zeros(b, x.shape[1])\n",
    "        for i in range(self.n_masks):\n",
    "            s, e = start_points[:, i], end_points[:, i]\n",
    "            for b_i in range(b):\n",
    "                ref[b_i, s[b_i]: e[b_i]] = 1\n",
    "        \n",
    "        idx = (ref > 0).nonzero()\n",
    "        x[idx[:, 0], idx[:, 1]] = self.vec_replacer\n",
    "        \n",
    "        return x, idx\n",
    "    \n",
    "    def forward(self, x):\n",
    "        # x -> (b l d)\n",
    "        return self.random_mask(x)"
   ]
  },
  {
   "cell_type": "code",
   "execution_count": 11,
   "id": "39e10d5d",
   "metadata": {},
   "outputs": [
    {
     "data": {
      "text/plain": [
       "(torch.Size([2, 500, 512]), torch.Size([151, 2]))"
      ]
     },
     "execution_count": 11,
     "metadata": {},
     "output_type": "execute_result"
    }
   ],
   "source": [
    "masker = FeatureMasker()\n",
    "x, mask_idx = masker(x.permute(0, 2, 1))\n",
    "x.shape, mask_idx.shape"
   ]
  },
  {
   "cell_type": "markdown",
   "id": "5d0f8183",
   "metadata": {},
   "source": [
    "### Transformer Encoder (Model Long-range Correlation)\n"
   ]
  },
  {
   "cell_type": "code",
   "execution_count": 12,
   "id": "9b2fcc18",
   "metadata": {},
   "outputs": [],
   "source": [
    "class MHAttn(nn.Module):\n",
    "    def __init__(self, dim=768, n_heads=12):\n",
    "        super().__init__()\n",
    "        self.n_heads = n_heads\n",
    "        self.to_qkv = nn.Linear(dim, dim * 3)\n",
    "        self.to_out = nn.Linear(dim, dim)\n",
    "        self.d_root = dim ** 0.5\n",
    "        self.to_mh = lambda x: rearrange(x, 'b l (h d) -> (b h) l d', h=self.n_heads)\n",
    "        self.mh_to_d = lambda x: rearrange(x, '(b h) l d -> b l (h d)', h=self.n_heads)\n",
    "        \n",
    "    def forward(self, x):\n",
    "        q, k, v = list(map(self.to_mh, self.to_qkv(x).chunk(3, dim=-1)))\n",
    "        attn = (einsum(q, k, 'B i d, B j d -> B i j') / self.d_root).softmax(dim=1)\n",
    "        return self.to_out(self.mh_to_d(attn @ v))\n",
    "    \n",
    "    \n",
    "class FF(nn.Module):\n",
    "    def __init__(self, dim=768):\n",
    "        super().__init__()\n",
    "        self.ln = nn.LayerNorm(normalized_shape=dim)\n",
    "        self.up = nn.Sequential(\n",
    "            nn.Linear(dim, dim * 4),\n",
    "            nn.GELU()\n",
    "        )\n",
    "        self.down = nn.Sequential(\n",
    "            nn.Linear(dim * 4, dim),\n",
    "            nn.GELU()\n",
    "        )\n",
    "    \n",
    "    def forward(self, x):\n",
    "        return self.down(self.up(self.ln(x)))\n",
    "\n",
    "class TransformerBlock(nn.Module):\n",
    "    def __init__(self, dim=768):\n",
    "        super().__init__()\n",
    "        self.attn = MHAttn(dim)\n",
    "        self.ff = FF(dim)\n",
    "    \n",
    "    def forward(self, x):\n",
    "        return x + self.ff(self.attn(x))"
   ]
  },
  {
   "cell_type": "code",
   "execution_count": 13,
   "id": "2eb5ffc1",
   "metadata": {},
   "outputs": [],
   "source": [
    "to_transformer_dim = nn.Conv1d(512, 768, kernel_size=1)\n",
    "pe = conv_block(1, c_in=768, c_out=768, kernal_size=127, groups=12)\n",
    "transformer_encoder = nn.Sequential(*[TransformerBlock() for _ in range(12)])\n"
   ]
  },
  {
   "cell_type": "code",
   "execution_count": 14,
   "id": "6c08d8da",
   "metadata": {},
   "outputs": [
    {
     "data": {
      "text/plain": [
       "torch.Size([2, 500, 768])"
      ]
     },
     "execution_count": 14,
     "metadata": {},
     "output_type": "execute_result"
    }
   ],
   "source": [
    "x = rearrange(x, 'b d l -> b l d')\n",
    "c = to_transformer_dim(x)\n",
    "c = c + pe(c)\n",
    "c = rearrange(c, 'b d l -> b l d')\n",
    "c = transformer_encoder(c)\n",
    "c.shape"
   ]
  },
  {
   "cell_type": "markdown",
   "id": "07c59e4f",
   "metadata": {},
   "source": [
    "### Self-Supervised Learning"
   ]
  },
  {
   "cell_type": "code",
   "execution_count": 27,
   "id": "0997c195",
   "metadata": {},
   "outputs": [],
   "source": [
    "import torch.nn.functional as F"
   ]
  },
  {
   "cell_type": "code",
   "execution_count": 15,
   "id": "61a6cdcb",
   "metadata": {},
   "outputs": [],
   "source": [
    "to_vq_dim = nn.Linear(768, 256)\n",
    "c = to_vq_dim(c)"
   ]
  },
  {
   "cell_type": "code",
   "execution_count": 28,
   "id": "9abfbd0e",
   "metadata": {},
   "outputs": [
    {
     "data": {
      "text/plain": [
       "(torch.Size([151, 256]), torch.Size([151, 256]))"
      ]
     },
     "execution_count": 28,
     "metadata": {},
     "output_type": "execute_result"
    }
   ],
   "source": [
    "c_pred_masked = F.normalize(c[mask_idx[:,0], mask_idx[:, 1]], dim=-1)\n",
    "q_masked = F.normalize(q[mask_idx[:,0], mask_idx[:, 1]], dim=-1)\n",
    "c_pred_masked.shape, q_masked.shape"
   ]
  },
  {
   "cell_type": "markdown",
   "id": "5cad45b9",
   "metadata": {},
   "source": [
    "#### Main Loss: Predict (from Transformer Encoder) v.s. Qutanized Vecotr"
   ]
  },
  {
   "cell_type": "code",
   "execution_count": null,
   "id": "e75e13f6",
   "metadata": {},
   "outputs": [],
   "source": [
    "# Similarity Matrix: [N_mask, N_mask]\n",
    "logits = c_pred_masked @ q_masked.T\n",
    "labels = torch.arange(logits.shape[0], device=logits.device)  # only pred in diognal is true.\n",
    "temperature = 1.0\n",
    "\n",
    "loss_nce = torch.nn.functional.cross_entropy(logits / temperature, labels)"
   ]
  },
  {
   "cell_type": "markdown",
   "id": "6d693ae5",
   "metadata": {},
   "source": [
    "#### Extra Loss: Codebook Usuage; Feature Penalty; ...More"
   ]
  },
  {
   "cell_type": "code",
   "execution_count": null,
   "id": "bced52b4",
   "metadata": {},
   "outputs": [],
   "source": [
    "# Encourage Codebook Usuage\n",
    "\n",
    "class GumbelVectorQuantizer_(GumbelVectorQuantizer):    \n",
    "    def forward(self, x):\n",
    "        x = self.scorer(x)  # 'b l (n_group group_len))\n",
    "        score = rearrange(x, 'b l (g n) -> b l g n', g=self.n_group)\n",
    "        score = self.gumbel_softmax(score, dim=-1)[..., None]  # (b l g n 1) \n",
    "        \n",
    "        codebook = self.codebook[None, None]  # (1 1 g n d)\n",
    "        q = rearrange((score * codebook).sum(dim=-2), 'b l g d -> b l (g d)')\n",
    "        \n",
    "        return q"
   ]
  }
 ],
 "metadata": {
  "kernelspec": {
   "display_name": "base",
   "language": "python",
   "name": "python3"
  },
  "language_info": {
   "codemirror_mode": {
    "name": "ipython",
    "version": 3
   },
   "file_extension": ".py",
   "mimetype": "text/x-python",
   "name": "python",
   "nbconvert_exporter": "python",
   "pygments_lexer": "ipython3",
   "version": "3.13.5"
  }
 },
 "nbformat": 4,
 "nbformat_minor": 5
}
